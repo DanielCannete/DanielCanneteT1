{
  "nbformat": 4,
  "nbformat_minor": 0,
  "metadata": {
    "colab": {
      "provenance": [],
      "authorship_tag": "ABX9TyMN2Lgj04P5tRywqvpQvkBx",
      "include_colab_link": true
    },
    "kernelspec": {
      "name": "python3",
      "display_name": "Python 3"
    },
    "language_info": {
      "name": "python"
    }
  },
  "cells": [
    {
      "cell_type": "markdown",
      "metadata": {
        "id": "view-in-github",
        "colab_type": "text"
      },
      "source": [
        "<a href=\"https://colab.research.google.com/github/DanielCannete/DanielCanneteT1/blob/main/Tarea_2_Daniel_Ca%C3%B1ete.ipynb\" target=\"_parent\"><img src=\"https://colab.research.google.com/assets/colab-badge.svg\" alt=\"Open In Colab\"/></a>"
      ]
    },
    {
      "cell_type": "markdown",
      "source": [
        "Bueno para el primer ejercicio había que hacer una lista que cortara en los 100. Así que hice un rango hasta el 100 y coloqué que imprimiera con (x+1) para saltar el 0."
      ],
      "metadata": {
        "id": "00c5DjCsFfa1"
      }
    },
    {
      "cell_type": "code",
      "source": [
        "for x in range(100):\n",
        " print(x+1)"
      ],
      "metadata": {
        "colab": {
          "base_uri": "https://localhost:8080/"
        },
        "id": "ADmPeywaFf15",
        "outputId": "981bf83d-c81e-4461-db6b-50f01e130f9c"
      },
      "execution_count": 38,
      "outputs": [
        {
          "output_type": "stream",
          "name": "stdout",
          "text": [
            "1\n",
            "2\n",
            "3\n",
            "4\n",
            "5\n",
            "6\n",
            "7\n",
            "8\n",
            "9\n",
            "10\n",
            "11\n",
            "12\n",
            "13\n",
            "14\n",
            "15\n",
            "16\n",
            "17\n",
            "18\n",
            "19\n",
            "20\n",
            "21\n",
            "22\n",
            "23\n",
            "24\n",
            "25\n",
            "26\n",
            "27\n",
            "28\n",
            "29\n",
            "30\n",
            "31\n",
            "32\n",
            "33\n",
            "34\n",
            "35\n",
            "36\n",
            "37\n",
            "38\n",
            "39\n",
            "40\n",
            "41\n",
            "42\n",
            "43\n",
            "44\n",
            "45\n",
            "46\n",
            "47\n",
            "48\n",
            "49\n",
            "50\n",
            "51\n",
            "52\n",
            "53\n",
            "54\n",
            "55\n",
            "56\n",
            "57\n",
            "58\n",
            "59\n",
            "60\n",
            "61\n",
            "62\n",
            "63\n",
            "64\n",
            "65\n",
            "66\n",
            "67\n",
            "68\n",
            "69\n",
            "70\n",
            "71\n",
            "72\n",
            "73\n",
            "74\n",
            "75\n",
            "76\n",
            "77\n",
            "78\n",
            "79\n",
            "80\n",
            "81\n",
            "82\n",
            "83\n",
            "84\n",
            "85\n",
            "86\n",
            "87\n",
            "88\n",
            "89\n",
            "90\n",
            "91\n",
            "92\n",
            "93\n",
            "94\n",
            "95\n",
            "96\n",
            "97\n",
            "98\n"
          ]
        }
      ]
    },
    {
      "cell_type": "markdown",
      "source": [
        "Para el segundo ejercicio había que poner los números que fueran divisibles por 3 hasta el 100. Para eso reutilicé el codigo que enlistaba en el ejercicio anterior y después le agregué la condición de que se dividieran por 3 y no quedara resto. De nuevo, hacemos el condicional y la impresión con (x+1) para saltarnos el valor 0. En caso contrario, aparecería en la lista ya que es divisible por 3 y no deja resto.  "
      ],
      "metadata": {
        "id": "yVkiuAL_PtMA"
      }
    },
    {
      "cell_type": "code",
      "source": [
        "for x in range(100):\n",
        "  if (x+1) % 3 == 0:\n",
        "   print(x+1)"
      ],
      "metadata": {
        "colab": {
          "base_uri": "https://localhost:8080/"
        },
        "id": "mB9Z2MytH25p",
        "outputId": "682d2fbe-6ff2-49ec-ac4f-0b5db4d971fa"
      },
      "execution_count": 40,
      "outputs": [
        {
          "output_type": "stream",
          "name": "stdout",
          "text": [
            "3\n",
            "6\n",
            "9\n",
            "12\n",
            "15\n",
            "18\n",
            "21\n",
            "24\n",
            "27\n",
            "30\n",
            "33\n",
            "36\n",
            "39\n",
            "42\n",
            "45\n",
            "48\n",
            "51\n",
            "54\n",
            "57\n",
            "60\n",
            "63\n",
            "66\n",
            "69\n",
            "72\n",
            "75\n",
            "78\n",
            "81\n",
            "84\n",
            "87\n",
            "90\n",
            "93\n",
            "96\n",
            "99\n"
          ]
        }
      ]
    },
    {
      "cell_type": "markdown",
      "source": [
        "Para este ejercicio primero le dimos valores al numero 1 y 2. El primero que sea insertable y el segundo establecido. Lo siguiente fue colocar que se sumen los dos valores y que eso arroje le de un valor a la variable resultado. Después colocamos condicionales si la suma es menor que 100, sale el mensaje \"por debajo de 100\". Si la suma tiene el valor 100 o mayor y es menor que 150, saldrá \"Entre 100 y 150\". Para cualquier otro valor aparece \"mayor que 150\"."
      ],
      "metadata": {
        "id": "pEJMlr-uQnTt"
      }
    },
    {
      "cell_type": "code",
      "source": [
        "numero1 = int(input(\"Insterta un numeritoooo\"))\n",
        "numero2 = 50\n",
        "suma = numero1 + numero2\n",
        "resultado = \"\"\n",
        "if (suma<100):\n",
        "  resultado = \"Por debajo de 100 :c\"\n",
        "elif(suma>=100 and suma<150):\n",
        "  resultado = \"Entre 100 y 150\"\n",
        "else:\n",
        "  resultado = \"Mayor que 150 O.O\"\n",
        "\n",
        "print(resultado)\n",
        ""
      ],
      "metadata": {
        "colab": {
          "base_uri": "https://localhost:8080/"
        },
        "id": "CwaSURwKLbQx",
        "outputId": "2aa78863-c0ae-46ad-b6c7-ce9627075775"
      },
      "execution_count": 51,
      "outputs": [
        {
          "output_type": "stream",
          "name": "stdout",
          "text": [
            "Insterta un numeritoooo10\n",
            "Por debajo de 100 :c\n"
          ]
        }
      ]
    },
    {
      "cell_type": "markdown",
      "source": [
        "No me pude el último :c"
      ],
      "metadata": {
        "id": "wWr9Wl27lFbX"
      }
    },
    {
      "cell_type": "code",
      "source": [
        "numero1 = int(input(\"coloca tu edad\"))\n",
        "gustar_programar = input(\"te gusta programar\")\n",
        "if (gustar_programar == \"si\"):\n",
        "  gustar_programar is True\n",
        "if (gustar_programar == \"no\"):\n",
        "  gustar_programar is False\n",
        "suma = numero1 and gustar_programar\n",
        "resultado = \"\"\n",
        "\n",
        "if (suma>18 and True):\n",
        "  print(\"Eres mayor de edad y te gusta programar\")\n",
        "elif (suma>18 and False):\n",
        "  print(\"Eres mayor de edad y no te gusta programar\")\n",
        "elif(suma<18 and True):\n",
        "  print(\"Eres menor de edad y te gusta programar\")\n",
        "elif(suma<18 and False):\n",
        "  print(\"Eres menor de edad y no te gusta programar\")\n",
        "\n",
        "print(resultado)\n",
        "\n",
        "\n"
      ],
      "metadata": {
        "colab": {
          "base_uri": "https://localhost:8080/",
          "height": 280
        },
        "id": "O416ypladVi-",
        "outputId": "4cdeb10b-47c3-42ca-ea48-caddb02e8eff"
      },
      "execution_count": 113,
      "outputs": [
        {
          "name": "stdout",
          "output_type": "stream",
          "text": [
            "coloca tu edad21\n",
            "te gusta programarsi\n"
          ]
        },
        {
          "output_type": "error",
          "ename": "TypeError",
          "evalue": "ignored",
          "traceback": [
            "\u001b[0;31m---------------------------------------------------------------------------\u001b[0m",
            "\u001b[0;31mTypeError\u001b[0m                                 Traceback (most recent call last)",
            "\u001b[0;32m<ipython-input-113-aec4598bf405>\u001b[0m in \u001b[0;36m<cell line: 10>\u001b[0;34m()\u001b[0m\n\u001b[1;32m      8\u001b[0m \u001b[0mresultado\u001b[0m \u001b[0;34m=\u001b[0m \u001b[0;34m\"\"\u001b[0m\u001b[0;34m\u001b[0m\u001b[0;34m\u001b[0m\u001b[0m\n\u001b[1;32m      9\u001b[0m \u001b[0;34m\u001b[0m\u001b[0m\n\u001b[0;32m---> 10\u001b[0;31m \u001b[0;32mif\u001b[0m \u001b[0;34m(\u001b[0m\u001b[0msuma\u001b[0m\u001b[0;34m>\u001b[0m\u001b[0;36m18\u001b[0m \u001b[0;32mand\u001b[0m \u001b[0;32mTrue\u001b[0m\u001b[0;34m)\u001b[0m\u001b[0;34m:\u001b[0m\u001b[0;34m\u001b[0m\u001b[0;34m\u001b[0m\u001b[0m\n\u001b[0m\u001b[1;32m     11\u001b[0m   \u001b[0mprint\u001b[0m\u001b[0;34m(\u001b[0m\u001b[0;34m\"Eres mayor de edad y te gusta programar\"\u001b[0m\u001b[0;34m)\u001b[0m\u001b[0;34m\u001b[0m\u001b[0;34m\u001b[0m\u001b[0m\n\u001b[1;32m     12\u001b[0m \u001b[0;32melif\u001b[0m \u001b[0;34m(\u001b[0m\u001b[0msuma\u001b[0m\u001b[0;34m>\u001b[0m\u001b[0;36m18\u001b[0m \u001b[0;32mand\u001b[0m \u001b[0;32mFalse\u001b[0m\u001b[0;34m)\u001b[0m\u001b[0;34m:\u001b[0m\u001b[0;34m\u001b[0m\u001b[0;34m\u001b[0m\u001b[0m\n",
            "\u001b[0;31mTypeError\u001b[0m: '>' not supported between instances of 'str' and 'int'"
          ]
        }
      ]
    }
  ]
}